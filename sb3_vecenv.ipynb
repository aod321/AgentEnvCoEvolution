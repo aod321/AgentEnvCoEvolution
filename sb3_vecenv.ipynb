{
 "cells": [
  {
   "cell_type": "code",
   "execution_count": 1,
   "metadata": {},
   "outputs": [],
   "source": [
    "import sys\n",
    "sys.path.append(\"../\")\n",
    "import time\n",
    "import gym\n",
    "import numpy as np\n",
    "from stable_baselines3 import A2C, PPO, DQN\n",
    "from sb3_contrib import RecurrentPPO\n",
    "from stable_baselines3.common.vec_env import DummyVecEnv, SubprocVecEnv, VecMonitor\n",
    "from stable_baselines3.common.utils import set_random_seed\n",
    "from stable_baselines3.common.evaluation import evaluate_policy\n",
    "from stable_baselines3.common.env_util import make_vec_env\n",
    "import matplotlib.pyplot as plt\n",
    "import AgentEnvCoEvolution._load_environment as dm_tasks\n",
    "import torch\n",
    "from typing import Callable\n",
    "import uuid as uuid_lib\n",
    "import argparse\n",
    "from AgentEnvCoEvolution.WFCUnity3DEnv import WFCUnity3DEnv\n",
    "import sys\n",
    "import argparse\n",
    "import uuid as uuid_lib\n",
    "import os\n",
    "from PIL import Image\n",
    "import copy\n",
    "import time\n",
    "from tqdm import tqdm\n",
    "import datetime"
   ]
  },
  {
   "cell_type": "code",
   "execution_count": 6,
   "metadata": {},
   "outputs": [],
   "source": [
    "gamepath = \"/Users/yinzi/Downloads/0815_mac_build.app/Contents/MacOS/tilemap_render\"\n",
    "def make_env(rank: int) -> Callable:\n",
    "    \"\"\"\n",
    "    Utility function for multiprocessed env.\n",
    "    \n",
    "    :param env_id: (str) the environment ID\n",
    "    :param num_env: (int) the number of environment you wish to have in subprocesses\n",
    "    :param seed: (int) the inital seed for RNG\n",
    "    :param rank: (int) index of the subprocess\n",
    "    :return: (Callable)\n",
    "    \"\"\"\n",
    "    def _init() -> gym.Env:\n",
    "        env = WFCUnity3DEnv(wfc_size=9, file_name=gamepath)\n",
    "        return env\n",
    "    return _init"
   ]
  },
  {
   "cell_type": "code",
   "execution_count": 7,
   "metadata": {},
   "outputs": [],
   "source": [
    "num_env = 2\n",
    "env_list = []\n",
    "for i in range(num_env):\n",
    "    env_list.append(make_env(i))\n",
    "vec_env = VecMonitor(SubprocVecEnv(env_list))\n",
    "wave = vec_env.env_method(\"mutate_a_new_map\", indices=0)[0]\n",
    "vec_env.env_method(\"set_wave\", wave=wave)\n",
    "vec_env.env_method(\"render_in_unity\")"
   ]
  }
 ],
 "metadata": {
  "kernelspec": {
   "display_name": "Python 3.9.9 ('base')",
   "language": "python",
   "name": "python3"
  },
  "language_info": {
   "codemirror_mode": {
    "name": "ipython",
    "version": 3
   },
   "file_extension": ".py",
   "mimetype": "text/x-python",
   "name": "python",
   "nbconvert_exporter": "python",
   "pygments_lexer": "ipython3",
   "version": "3.9.9"
  },
  "orig_nbformat": 4,
  "vscode": {
   "interpreter": {
    "hash": "f19f2ff88e221998a2623ce1d113675492a5ad2d162e297270b934001ae86c23"
   }
  }
 },
 "nbformat": 4,
 "nbformat_minor": 2
}
